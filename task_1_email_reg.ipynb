{
  "nbformat": 4,
  "nbformat_minor": 0,
  "metadata": {
    "colab": {
      "provenance": [],
      "collapsed_sections": [],
      "authorship_tag": "ABX9TyMYews08XSUCeUDaXBku0N/",
      "include_colab_link": true
    },
    "kernelspec": {
      "name": "python3",
      "display_name": "Python 3"
    },
    "language_info": {
      "name": "python"
    }
  },
  "cells": [
    {
      "cell_type": "markdown",
      "metadata": {
        "id": "view-in-github",
        "colab_type": "text"
      },
      "source": [
        "<a href=\"https://colab.research.google.com/github/sandeepsekarg/Gtask1/blob/main/task_1_email_reg.ipynb\" target=\"_parent\"><img src=\"https://colab.research.google.com/assets/colab-badge.svg\" alt=\"Open In Colab\"/></a>"
      ]
    },
    {
      "cell_type": "code",
      "execution_count": 2,
      "metadata": {
        "colab": {
          "base_uri": "https://localhost:8080/"
        },
        "id": "Lj3dzk1l6j1h",
        "outputId": "9e039007-e2e4-47a7-9d99-dc4542158f1b"
      },
      "outputs": [
        {
          "output_type": "stream",
          "name": "stdout",
          "text": [
            "Enter Email: some1@some.com\n",
            "Now enter password length should be in the range of 5 to 16\n",
            "And use atleast 1 uppercase, 1 lowercase, 1 numeric value, 1 special character without any spaces\n",
            "··········\n",
            "Email id created successfully\n",
            "Email id successfully stored in our Data Base\n"
          ]
        }
      ],
      "source": [
        "# email registration\n",
        "# condition 1 mail id should not start with spl character and numbers\n",
        "# condition 2 @ and '.' should be present but not consecutively\n",
        "# condition 3 username followed by @\n",
        "# condition for creating one email id and store that id in a file\n",
        "# this task has to be accomplished using python alone. No web.\n",
        "\n",
        "import re\n",
        "import getpass  # for security purpose we need to cover the password\n",
        "email_cond = '[A-Za-z_]+[A-Za-z0-9_+.-_]+@[A-Za-z0-9]+.[A-Z|a-z]{2,}'\n",
        "\n",
        "\n",
        "# store the data in a text file\n",
        "def file1_handle(id, pswd):\n",
        "    file1 = open(\"mail_ids.txt\", \"a\")\n",
        "    file1.write(id)\n",
        "    file1.write(\",\")\n",
        "    file1.write(pswd)\n",
        "    file1.close()\n",
        "    print(\"Email id successfully stored in our Data Base\")\n",
        "    return file1\n",
        "\n",
        "\n",
        "def password_operation(pswd):\n",
        "    password = pswd\n",
        "    size_password = len(password)\n",
        "    upper, lower, num, spl, space = 0, 0, 0, 0, 0\n",
        "    spl_e = []\n",
        "    if 5 < size_password < 16:\n",
        "        for i in range(len(password)):\n",
        "            if password[i] >= 'A' and password[i] <= 'Z':\n",
        "                upper += 1\n",
        "            elif password[i] >= 'a' and password[i] <= 'z':\n",
        "                lower += 1\n",
        "            elif '0' < password[i] < '9':\n",
        "                num += 1\n",
        "            elif password[i] == ' ':\n",
        "                space += 1\n",
        "            else:\n",
        "                spl += 1\n",
        "                spl_e.append(password[i])\n",
        "        if upper > 0 and lower > 0 and num > 0 and spl > 0 and space == 0:\n",
        "            '''print('upper: ', upper)\n",
        "            print('lower: ', lower)\n",
        "            print('num: ', num)\n",
        "            print('spl: ', spl)\n",
        "            print('space: ', space)\n",
        "            print(spl_e)'''\n",
        "            print(\"Email id created successfully\")\n",
        "            file1_handle(email, password)\n",
        "        else:\n",
        "            print(\"invalid password, pls enter a valid password\")\n",
        "            print(\"And use atleast 1 uppercase, 1 lowercase, 1 number, 1 special character without any spaces\")\n",
        "    else:\n",
        "        print(\"password length should be in the range of 5 to 16\")\n",
        "        print(\"And use atleast 1 uppercase, 1 lowercase, 1 number, 1 special character without any spaces\")\n",
        "\n",
        "\n",
        "def check(email):\n",
        "    if re.match(email_cond, email):\n",
        "        # print(\"valid email\")\n",
        "\n",
        "        # password enter\n",
        "        print(\"Now enter password length should be in the range of 5 to 16\")\n",
        "        print(\"And use atleast 1 uppercase, 1 lowercase, 1 numeric value, 1 special character without any spaces\")\n",
        "        password1 = getpass.getpass()\n",
        "        return password_operation(password1)\n",
        "    else:\n",
        "        print(\"invalid email\")\n",
        "\n",
        "\n",
        "email = input(\"Enter Email: \")\n",
        "check(email)\n"
      ]
    }
  ]
}